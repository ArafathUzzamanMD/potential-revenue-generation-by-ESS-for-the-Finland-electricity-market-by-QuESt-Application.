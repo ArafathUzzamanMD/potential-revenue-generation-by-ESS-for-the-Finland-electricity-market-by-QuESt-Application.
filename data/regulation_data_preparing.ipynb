{
 "cells": [
  {
   "cell_type": "code",
   "execution_count": 98,
   "metadata": {},
   "outputs": [],
   "source": [
    "import numpy as np \n",
    "import pandas as pd \n",
    "import os "
   ]
  },
  {
   "cell_type": "code",
   "execution_count": 99,
   "metadata": {},
   "outputs": [
    {
     "data": {
      "text/plain": [
       "['106_2020-01-01T0000_2024-05-17T0000.csv',\n",
       " '1_2020-01-01T0000_2024-05-17T0000.csv',\n",
       " '244_2020-01-01T0000_2024-05-17T0000.csv',\n",
       " '262_2020-01-01T0000_2024-05-17T0000.csv',\n",
       " '287_2020-01-01T0000_2024-05-17T0000.csv',\n",
       " '288_2020-01-01T0000_2024-05-17T0000.csv',\n",
       " '289_2020-01-01T0000_2024-05-17T0000.csv',\n",
       " '290_2020-01-01T0000_2024-05-17T0000.csv',\n",
       " '320_2020-01-01T0000_2024-05-17T0000.csv',\n",
       " '327_2020-01-01T0000_2024-05-17T0000.csv',\n",
       " '329_2020-01-01T0000_2024-05-17T0000.csv',\n",
       " 'data_preparing.ipynb',\n",
       " 'FI',\n",
       " 'idf',\n",
       " 'Oomi Spot-hintatieto (1_06_2023-30_09_2023).csv',\n",
       " 'Oomi Spot-hintatieto (1_10_2023-31_10_23).csv',\n",
       " 'Oomi Spot-hintatieto (1_11_2023-31_12_2023).csv',\n",
       " 'Oomi Spot-hintatieto (1_1_2023-31_05_2023).csv',\n",
       " 'Oomi Spot-hintatieto (1_1_2024-31_03_2024).csv',\n",
       " 'Oomi Spot-hintatieto (2021).csv',\n",
       " 'Oomi Spot-hintatieto (2022).csv']"
      ]
     },
     "execution_count": 99,
     "metadata": {},
     "output_type": "execute_result"
    }
   ],
   "source": [
    "os.listdir(\"data\")"
   ]
  },
  {
   "cell_type": "code",
   "execution_count": 100,
   "metadata": {},
   "outputs": [],
   "source": [
    "crossborder = pd.read_csv(\"data/287_2020-01-01T0000_2024-05-17T0000.csv\")\n",
    "regup = pd.read_csv(\"data/244_2020-01-01T0000_2024-05-17T0000.csv\")\n",
    "regdwn = pd.read_csv(\"data/106_2020-01-01T0000_2024-05-17T0000.csv\")\n",
    "rrs = pd.read_csv(\"data/288_2020-01-01T0000_2024-05-17T0000.csv\")\n",
    "nspin = pd.read_csv(\"data/1_2020-01-01T0000_2024-05-17T0000.csv\")\n"
   ]
  },
  {
   "cell_type": "code",
   "execution_count": 101,
   "metadata": {},
   "outputs": [
    {
     "data": {
      "text/html": [
       "<div>\n",
       "<style scoped>\n",
       "    .dataframe tbody tr th:only-of-type {\n",
       "        vertical-align: middle;\n",
       "    }\n",
       "\n",
       "    .dataframe tbody tr th {\n",
       "        vertical-align: top;\n",
       "    }\n",
       "\n",
       "    .dataframe thead th {\n",
       "        text-align: right;\n",
       "    }\n",
       "</style>\n",
       "<table border=\"1\" class=\"dataframe\">\n",
       "  <thead>\n",
       "    <tr style=\"text-align: right;\">\n",
       "      <th></th>\n",
       "      <th>Start time UTC</th>\n",
       "      <th>End time UTC</th>\n",
       "      <th>Automatic Frequency Restoration Reserve, capacity, up</th>\n",
       "    </tr>\n",
       "  </thead>\n",
       "  <tbody>\n",
       "    <tr>\n",
       "      <th>0</th>\n",
       "      <td>2019-12-31T23:00:00.000Z</td>\n",
       "      <td>2020-01-01T00:00:00.000Z</td>\n",
       "      <td>0</td>\n",
       "    </tr>\n",
       "    <tr>\n",
       "      <th>1</th>\n",
       "      <td>2020-01-01T00:00:00.000Z</td>\n",
       "      <td>2020-01-01T01:00:00.000Z</td>\n",
       "      <td>0</td>\n",
       "    </tr>\n",
       "    <tr>\n",
       "      <th>2</th>\n",
       "      <td>2020-01-01T01:00:00.000Z</td>\n",
       "      <td>2020-01-01T02:00:00.000Z</td>\n",
       "      <td>0</td>\n",
       "    </tr>\n",
       "    <tr>\n",
       "      <th>3</th>\n",
       "      <td>2020-01-01T02:00:00.000Z</td>\n",
       "      <td>2020-01-01T03:00:00.000Z</td>\n",
       "      <td>0</td>\n",
       "    </tr>\n",
       "    <tr>\n",
       "      <th>4</th>\n",
       "      <td>2020-01-01T03:00:00.000Z</td>\n",
       "      <td>2020-01-01T04:00:00.000Z</td>\n",
       "      <td>0</td>\n",
       "    </tr>\n",
       "    <tr>\n",
       "      <th>...</th>\n",
       "      <td>...</td>\n",
       "      <td>...</td>\n",
       "      <td>...</td>\n",
       "    </tr>\n",
       "    <tr>\n",
       "      <th>37918</th>\n",
       "      <td>2024-05-16T18:00:00.000Z</td>\n",
       "      <td>2024-05-16T19:00:00.000Z</td>\n",
       "      <td>25</td>\n",
       "    </tr>\n",
       "    <tr>\n",
       "      <th>37919</th>\n",
       "      <td>2024-05-16T19:00:00.000Z</td>\n",
       "      <td>2024-05-16T20:00:00.000Z</td>\n",
       "      <td>31</td>\n",
       "    </tr>\n",
       "    <tr>\n",
       "      <th>37920</th>\n",
       "      <td>2024-05-16T20:00:00.000Z</td>\n",
       "      <td>2024-05-16T21:00:00.000Z</td>\n",
       "      <td>52</td>\n",
       "    </tr>\n",
       "    <tr>\n",
       "      <th>37921</th>\n",
       "      <td>2024-05-16T21:00:00.000Z</td>\n",
       "      <td>2024-05-16T22:00:00.000Z</td>\n",
       "      <td>68</td>\n",
       "    </tr>\n",
       "    <tr>\n",
       "      <th>37922</th>\n",
       "      <td>2024-05-16T22:00:00.000Z</td>\n",
       "      <td>2024-05-16T23:00:00.000Z</td>\n",
       "      <td>67</td>\n",
       "    </tr>\n",
       "  </tbody>\n",
       "</table>\n",
       "<p>37923 rows × 3 columns</p>\n",
       "</div>"
      ],
      "text/plain": [
       "                 Start time UTC              End time UTC  \\\n",
       "0      2019-12-31T23:00:00.000Z  2020-01-01T00:00:00.000Z   \n",
       "1      2020-01-01T00:00:00.000Z  2020-01-01T01:00:00.000Z   \n",
       "2      2020-01-01T01:00:00.000Z  2020-01-01T02:00:00.000Z   \n",
       "3      2020-01-01T02:00:00.000Z  2020-01-01T03:00:00.000Z   \n",
       "4      2020-01-01T03:00:00.000Z  2020-01-01T04:00:00.000Z   \n",
       "...                         ...                       ...   \n",
       "37918  2024-05-16T18:00:00.000Z  2024-05-16T19:00:00.000Z   \n",
       "37919  2024-05-16T19:00:00.000Z  2024-05-16T20:00:00.000Z   \n",
       "37920  2024-05-16T20:00:00.000Z  2024-05-16T21:00:00.000Z   \n",
       "37921  2024-05-16T21:00:00.000Z  2024-05-16T22:00:00.000Z   \n",
       "37922  2024-05-16T22:00:00.000Z  2024-05-16T23:00:00.000Z   \n",
       "\n",
       "       Automatic Frequency Restoration Reserve, capacity, up  \n",
       "0                                                      0      \n",
       "1                                                      0      \n",
       "2                                                      0      \n",
       "3                                                      0      \n",
       "4                                                      0      \n",
       "...                                                  ...      \n",
       "37918                                                 25      \n",
       "37919                                                 31      \n",
       "37920                                                 52      \n",
       "37921                                                 68      \n",
       "37922                                                 67      \n",
       "\n",
       "[37923 rows x 3 columns]"
      ]
     },
     "execution_count": 101,
     "metadata": {},
     "output_type": "execute_result"
    }
   ],
   "source": [
    "nspin"
   ]
  },
  {
   "cell_type": "code",
   "execution_count": 104,
   "metadata": {},
   "outputs": [],
   "source": [
    "def transform_df(df, name):\n",
    "    value_col = df.columns[-1]\n",
    "    df = df.drop(\"Start time UTC\", axis=1)\n",
    "    df[\"End time UTC\"] = pd.to_datetime(df[\"End time UTC\"])\n",
    "    # extract Delivery date and hour\n",
    "    df[\"Delivery Date\"] = df[\"End time UTC\"].dt.date\n",
    "    df[\"Hour Ending\"] = df[\"End time UTC\"].dt.time.apply(lambda x: x.strftime(\"%H:%M\"))\n",
    "    df = df.drop(\"End time UTC\", axis=1)\n",
    "    df[f\"{name}\"] = df[value_col]\n",
    "    df = df.drop(value_col, axis=1)\n",
    "    df[\"Repeated Hour Flag\"] = df.groupby([\"Delivery Date\", \"Hour Ending\"])[name].transform(\"count\").apply(lambda x: \"Y\" if x > 1 else \"N\")\n",
    "    \n",
    "    return df"
   ]
  },
  {
   "cell_type": "code",
   "execution_count": 105,
   "metadata": {},
   "outputs": [],
   "source": [
    "nspin = transform_df(nspin, \"NSPIN\")\n",
    "regup = transform_df(regup, \"REGUP\")\n",
    "regdwn = transform_df(regdwn, \"REGDN\")\n",
    "rrs = transform_df(rrs, \"RRS\")\n",
    "crossborder = transform_df(crossborder, \"CROSSBORDER\")"
   ]
  },
  {
   "cell_type": "code",
   "execution_count": 106,
   "metadata": {},
   "outputs": [
    {
     "data": {
      "text/plain": [
       "[(37923, 4), (38351, 4), (38351, 4), (38352, 4), (29567, 4)]"
      ]
     },
     "execution_count": 106,
     "metadata": {},
     "output_type": "execute_result"
    }
   ],
   "source": [
    "[x.shape for x in [nspin, regup, regdwn, rrs, crossborder]]"
   ]
  },
  {
   "cell_type": "code",
   "execution_count": 107,
   "metadata": {},
   "outputs": [
    {
     "data": {
      "text/plain": [
       "[(datetime.date(2020, 1, 1), datetime.date(2024, 5, 16)),\n",
       " (datetime.date(2020, 1, 1), datetime.date(2024, 5, 16)),\n",
       " (datetime.date(2020, 1, 1), datetime.date(2024, 5, 16)),\n",
       " (datetime.date(2020, 1, 1), datetime.date(2024, 5, 16)),\n",
       " (datetime.date(2021, 1, 1), datetime.date(2024, 5, 16))]"
      ]
     },
     "execution_count": 107,
     "metadata": {},
     "output_type": "execute_result"
    }
   ],
   "source": [
    "[(x[\"Delivery Date\"].min(), x[\"Delivery Date\"].max()) for x in [nspin, regup, regdwn, rrs, crossborder]]"
   ]
  },
  {
   "cell_type": "code",
   "execution_count": 108,
   "metadata": {},
   "outputs": [
    {
     "data": {
      "text/html": [
       "<div>\n",
       "<style scoped>\n",
       "    .dataframe tbody tr th:only-of-type {\n",
       "        vertical-align: middle;\n",
       "    }\n",
       "\n",
       "    .dataframe tbody tr th {\n",
       "        vertical-align: top;\n",
       "    }\n",
       "\n",
       "    .dataframe thead th {\n",
       "        text-align: right;\n",
       "    }\n",
       "</style>\n",
       "<table border=\"1\" class=\"dataframe\">\n",
       "  <thead>\n",
       "    <tr style=\"text-align: right;\">\n",
       "      <th></th>\n",
       "      <th>Delivery Date</th>\n",
       "      <th>Hour Ending</th>\n",
       "      <th>RRS</th>\n",
       "      <th>Repeated Hour Flag</th>\n",
       "    </tr>\n",
       "  </thead>\n",
       "  <tbody>\n",
       "    <tr>\n",
       "      <th>0</th>\n",
       "      <td>2020-01-01</td>\n",
       "      <td>00:00</td>\n",
       "      <td>52.2</td>\n",
       "      <td>N</td>\n",
       "    </tr>\n",
       "    <tr>\n",
       "      <th>1</th>\n",
       "      <td>2020-01-01</td>\n",
       "      <td>01:00</td>\n",
       "      <td>52.2</td>\n",
       "      <td>N</td>\n",
       "    </tr>\n",
       "    <tr>\n",
       "      <th>2</th>\n",
       "      <td>2020-01-01</td>\n",
       "      <td>02:00</td>\n",
       "      <td>52.2</td>\n",
       "      <td>N</td>\n",
       "    </tr>\n",
       "    <tr>\n",
       "      <th>3</th>\n",
       "      <td>2020-01-01</td>\n",
       "      <td>03:00</td>\n",
       "      <td>52.2</td>\n",
       "      <td>N</td>\n",
       "    </tr>\n",
       "    <tr>\n",
       "      <th>4</th>\n",
       "      <td>2020-01-01</td>\n",
       "      <td>04:00</td>\n",
       "      <td>59.1</td>\n",
       "      <td>N</td>\n",
       "    </tr>\n",
       "    <tr>\n",
       "      <th>...</th>\n",
       "      <td>...</td>\n",
       "      <td>...</td>\n",
       "      <td>...</td>\n",
       "      <td>...</td>\n",
       "    </tr>\n",
       "    <tr>\n",
       "      <th>38347</th>\n",
       "      <td>2024-05-16</td>\n",
       "      <td>19:00</td>\n",
       "      <td>20.9</td>\n",
       "      <td>N</td>\n",
       "    </tr>\n",
       "    <tr>\n",
       "      <th>38348</th>\n",
       "      <td>2024-05-16</td>\n",
       "      <td>20:00</td>\n",
       "      <td>22.1</td>\n",
       "      <td>N</td>\n",
       "    </tr>\n",
       "    <tr>\n",
       "      <th>38349</th>\n",
       "      <td>2024-05-16</td>\n",
       "      <td>21:00</td>\n",
       "      <td>22.1</td>\n",
       "      <td>N</td>\n",
       "    </tr>\n",
       "    <tr>\n",
       "      <th>38350</th>\n",
       "      <td>2024-05-16</td>\n",
       "      <td>22:00</td>\n",
       "      <td>27.7</td>\n",
       "      <td>N</td>\n",
       "    </tr>\n",
       "    <tr>\n",
       "      <th>38351</th>\n",
       "      <td>2024-05-16</td>\n",
       "      <td>23:00</td>\n",
       "      <td>24.3</td>\n",
       "      <td>N</td>\n",
       "    </tr>\n",
       "  </tbody>\n",
       "</table>\n",
       "<p>38352 rows × 4 columns</p>\n",
       "</div>"
      ],
      "text/plain": [
       "      Delivery Date Hour Ending   RRS Repeated Hour Flag\n",
       "0        2020-01-01       00:00  52.2                  N\n",
       "1        2020-01-01       01:00  52.2                  N\n",
       "2        2020-01-01       02:00  52.2                  N\n",
       "3        2020-01-01       03:00  52.2                  N\n",
       "4        2020-01-01       04:00  59.1                  N\n",
       "...             ...         ...   ...                ...\n",
       "38347    2024-05-16       19:00  20.9                  N\n",
       "38348    2024-05-16       20:00  22.1                  N\n",
       "38349    2024-05-16       21:00  22.1                  N\n",
       "38350    2024-05-16       22:00  27.7                  N\n",
       "38351    2024-05-16       23:00  24.3                  N\n",
       "\n",
       "[38352 rows x 4 columns]"
      ]
     },
     "execution_count": 108,
     "metadata": {},
     "output_type": "execute_result"
    }
   ],
   "source": [
    "rrs"
   ]
  },
  {
   "cell_type": "code",
   "execution_count": 109,
   "metadata": {},
   "outputs": [],
   "source": [
    "# concatenate all dataframes on Delivery Date and Hour Ending\n",
    "df = nspin.merge(regup, on=[\"Delivery Date\", \"Hour Ending\", \"Repeated Hour Flag\"])\n",
    "df = df.merge(regdwn, on=[\"Delivery Date\", \"Hour Ending\", \"Repeated Hour Flag\"])\n",
    "df = df.merge(rrs, on=[\"Delivery Date\", \"Hour Ending\", \"Repeated Hour Flag\"])\n",
    "df = df.merge(crossborder, on=[\"Delivery Date\", \"Hour Ending\", \"Repeated Hour Flag\"])\n"
   ]
  },
  {
   "cell_type": "code",
   "execution_count": 110,
   "metadata": {},
   "outputs": [
    {
     "data": {
      "text/plain": [
       "Index(['Delivery Date', 'Hour Ending', 'NSPIN', 'Repeated Hour Flag', 'REGUP',\n",
       "       'REGDN', 'RRS', 'CROSSBORDER'],\n",
       "      dtype='object')"
      ]
     },
     "execution_count": 110,
     "metadata": {},
     "output_type": "execute_result"
    }
   ],
   "source": [
    "df.columns"
   ]
  },
  {
   "cell_type": "code",
   "execution_count": 111,
   "metadata": {},
   "outputs": [],
   "source": [
    "df = df[['Delivery Date', 'Hour Ending', 'Repeated Hour Flag', 'REGDN','REGUP', 'RRS', 'NSPIN', 'CROSSBORDER']]"
   ]
  },
  {
   "cell_type": "code",
   "execution_count": 112,
   "metadata": {},
   "outputs": [
    {
     "data": {
      "text/html": [
       "<div>\n",
       "<style scoped>\n",
       "    .dataframe tbody tr th:only-of-type {\n",
       "        vertical-align: middle;\n",
       "    }\n",
       "\n",
       "    .dataframe tbody tr th {\n",
       "        vertical-align: top;\n",
       "    }\n",
       "\n",
       "    .dataframe thead th {\n",
       "        text-align: right;\n",
       "    }\n",
       "</style>\n",
       "<table border=\"1\" class=\"dataframe\">\n",
       "  <thead>\n",
       "    <tr style=\"text-align: right;\">\n",
       "      <th></th>\n",
       "      <th>Delivery Date</th>\n",
       "      <th>Hour Ending</th>\n",
       "      <th>Repeated Hour Flag</th>\n",
       "      <th>REGDN</th>\n",
       "      <th>REGUP</th>\n",
       "      <th>RRS</th>\n",
       "      <th>NSPIN</th>\n",
       "      <th>CROSSBORDER</th>\n",
       "    </tr>\n",
       "  </thead>\n",
       "  <tbody>\n",
       "    <tr>\n",
       "      <th>0</th>\n",
       "      <td>2021-01-01</td>\n",
       "      <td>01:00</td>\n",
       "      <td>N</td>\n",
       "      <td>24.35000</td>\n",
       "      <td>24.35000</td>\n",
       "      <td>84.09999</td>\n",
       "      <td>0</td>\n",
       "      <td>0.0</td>\n",
       "    </tr>\n",
       "    <tr>\n",
       "      <th>1</th>\n",
       "      <td>2021-01-01</td>\n",
       "      <td>02:00</td>\n",
       "      <td>N</td>\n",
       "      <td>23.98000</td>\n",
       "      <td>23.98000</td>\n",
       "      <td>84.09999</td>\n",
       "      <td>0</td>\n",
       "      <td>0.0</td>\n",
       "    </tr>\n",
       "    <tr>\n",
       "      <th>2</th>\n",
       "      <td>2021-01-01</td>\n",
       "      <td>03:00</td>\n",
       "      <td>N</td>\n",
       "      <td>23.71999</td>\n",
       "      <td>23.71999</td>\n",
       "      <td>84.09999</td>\n",
       "      <td>0</td>\n",
       "      <td>0.0</td>\n",
       "    </tr>\n",
       "    <tr>\n",
       "      <th>3</th>\n",
       "      <td>2021-01-01</td>\n",
       "      <td>04:00</td>\n",
       "      <td>N</td>\n",
       "      <td>23.73000</td>\n",
       "      <td>23.73000</td>\n",
       "      <td>85.79999</td>\n",
       "      <td>0</td>\n",
       "      <td>0.0</td>\n",
       "    </tr>\n",
       "    <tr>\n",
       "      <th>4</th>\n",
       "      <td>2021-01-01</td>\n",
       "      <td>05:00</td>\n",
       "      <td>N</td>\n",
       "      <td>24.05999</td>\n",
       "      <td>24.05999</td>\n",
       "      <td>85.90000</td>\n",
       "      <td>60</td>\n",
       "      <td>0.0</td>\n",
       "    </tr>\n",
       "    <tr>\n",
       "      <th>...</th>\n",
       "      <td>...</td>\n",
       "      <td>...</td>\n",
       "      <td>...</td>\n",
       "      <td>...</td>\n",
       "      <td>...</td>\n",
       "      <td>...</td>\n",
       "      <td>...</td>\n",
       "      <td>...</td>\n",
       "    </tr>\n",
       "    <tr>\n",
       "      <th>29133</th>\n",
       "      <td>2024-05-16</td>\n",
       "      <td>19:00</td>\n",
       "      <td>N</td>\n",
       "      <td>91.89000</td>\n",
       "      <td>430.00000</td>\n",
       "      <td>20.90000</td>\n",
       "      <td>25</td>\n",
       "      <td>40.3</td>\n",
       "    </tr>\n",
       "    <tr>\n",
       "      <th>29134</th>\n",
       "      <td>2024-05-16</td>\n",
       "      <td>20:00</td>\n",
       "      <td>N</td>\n",
       "      <td>114.48000</td>\n",
       "      <td>114.48000</td>\n",
       "      <td>22.10000</td>\n",
       "      <td>31</td>\n",
       "      <td>78.2</td>\n",
       "    </tr>\n",
       "    <tr>\n",
       "      <th>29135</th>\n",
       "      <td>2024-05-16</td>\n",
       "      <td>21:00</td>\n",
       "      <td>N</td>\n",
       "      <td>84.27000</td>\n",
       "      <td>84.27000</td>\n",
       "      <td>22.10000</td>\n",
       "      <td>52</td>\n",
       "      <td>38.7</td>\n",
       "    </tr>\n",
       "    <tr>\n",
       "      <th>29136</th>\n",
       "      <td>2024-05-16</td>\n",
       "      <td>22:00</td>\n",
       "      <td>N</td>\n",
       "      <td>4.30000</td>\n",
       "      <td>4.30000</td>\n",
       "      <td>27.70000</td>\n",
       "      <td>68</td>\n",
       "      <td>39.7</td>\n",
       "    </tr>\n",
       "    <tr>\n",
       "      <th>29137</th>\n",
       "      <td>2024-05-16</td>\n",
       "      <td>23:00</td>\n",
       "      <td>N</td>\n",
       "      <td>3.30000</td>\n",
       "      <td>15.00000</td>\n",
       "      <td>24.30000</td>\n",
       "      <td>67</td>\n",
       "      <td>12.3</td>\n",
       "    </tr>\n",
       "  </tbody>\n",
       "</table>\n",
       "<p>29138 rows × 8 columns</p>\n",
       "</div>"
      ],
      "text/plain": [
       "      Delivery Date Hour Ending Repeated Hour Flag      REGDN      REGUP  \\\n",
       "0        2021-01-01       01:00                  N   24.35000   24.35000   \n",
       "1        2021-01-01       02:00                  N   23.98000   23.98000   \n",
       "2        2021-01-01       03:00                  N   23.71999   23.71999   \n",
       "3        2021-01-01       04:00                  N   23.73000   23.73000   \n",
       "4        2021-01-01       05:00                  N   24.05999   24.05999   \n",
       "...             ...         ...                ...        ...        ...   \n",
       "29133    2024-05-16       19:00                  N   91.89000  430.00000   \n",
       "29134    2024-05-16       20:00                  N  114.48000  114.48000   \n",
       "29135    2024-05-16       21:00                  N   84.27000   84.27000   \n",
       "29136    2024-05-16       22:00                  N    4.30000    4.30000   \n",
       "29137    2024-05-16       23:00                  N    3.30000   15.00000   \n",
       "\n",
       "            RRS  NSPIN  CROSSBORDER  \n",
       "0      84.09999      0          0.0  \n",
       "1      84.09999      0          0.0  \n",
       "2      84.09999      0          0.0  \n",
       "3      85.79999      0          0.0  \n",
       "4      85.90000     60          0.0  \n",
       "...         ...    ...          ...  \n",
       "29133  20.90000     25         40.3  \n",
       "29134  22.10000     31         78.2  \n",
       "29135  22.10000     52         38.7  \n",
       "29136  27.70000     68         39.7  \n",
       "29137  24.30000     67         12.3  \n",
       "\n",
       "[29138 rows x 8 columns]"
      ]
     },
     "execution_count": 112,
     "metadata": {},
     "output_type": "execute_result"
    }
   ],
   "source": [
    "df"
   ]
  },
  {
   "cell_type": "code",
   "execution_count": 113,
   "metadata": {},
   "outputs": [
    {
     "data": {
      "text/plain": [
       "0"
      ]
     },
     "execution_count": 113,
     "metadata": {},
     "output_type": "execute_result"
    }
   ],
   "source": [
    "df.duplicated().sum()"
   ]
  },
  {
   "cell_type": "code",
   "execution_count": 114,
   "metadata": {},
   "outputs": [
    {
     "data": {
      "text/plain": [
       "Repeated Hour Flag\n",
       "N    29138\n",
       "Name: count, dtype: int64"
      ]
     },
     "execution_count": 114,
     "metadata": {},
     "output_type": "execute_result"
    }
   ],
   "source": [
    "df[\"Repeated Hour Flag\"].value_counts()"
   ]
  },
  {
   "cell_type": "code",
   "execution_count": 115,
   "metadata": {},
   "outputs": [],
   "source": [
    "def get_data_by_year_and_month(df, year, month_name):\n",
    "    return df.loc[((pd.to_datetime(df[\"Delivery Date\"]).dt.year==year) & (pd.to_datetime(df[\"Delivery Date\"]).dt.month_name().apply(lambda x: x[:3])==month_name))]"
   ]
  },
  {
   "cell_type": "code",
   "execution_count": 122,
   "metadata": {},
   "outputs": [
    {
     "data": {
      "text/plain": [
       "(672, 8)"
      ]
     },
     "execution_count": 122,
     "metadata": {},
     "output_type": "execute_result"
    }
   ],
   "source": [
    "get_data_by_year_and_month(df, 2023, \"Feb\").shape"
   ]
  },
  {
   "cell_type": "code",
   "execution_count": 123,
   "metadata": {},
   "outputs": [
    {
     "data": {
      "text/plain": [
       "array([24], dtype=int64)"
      ]
     },
     "execution_count": 123,
     "metadata": {},
     "output_type": "execute_result"
    }
   ],
   "source": [
    "get_data_by_year_and_month(df, 2023, \"Apr\").groupby(\"Delivery Date\")[\"Hour Ending\"].count().unique()"
   ]
  },
  {
   "cell_type": "code",
   "execution_count": 118,
   "metadata": {},
   "outputs": [],
   "source": [
    "for year in range(2021, 2025, 1):\n",
    "    sub_df = df[pd.to_datetime(df[\"Delivery Date\"]).dt.year == year]    \n",
    "    sub_df.to_csv(f\"data/FI/CCP/{year}/rpt.00013091.0000000000000000.20210101080006.DAMASMCPC_{year}.csv\", index=False)"
   ]
  },
  {
   "cell_type": "code",
   "execution_count": null,
   "metadata": {},
   "outputs": [],
   "source": []
  }
 ],
 "metadata": {
  "kernelspec": {
   "display_name": "valuation_env",
   "language": "python",
   "name": "python3"
  },
  "language_info": {
   "codemirror_mode": {
    "name": "ipython",
    "version": 3
   },
   "file_extension": ".py",
   "mimetype": "text/x-python",
   "name": "python",
   "nbconvert_exporter": "python",
   "pygments_lexer": "ipython3",
   "version": "3.9.19"
  }
 },
 "nbformat": 4,
 "nbformat_minor": 2
}
